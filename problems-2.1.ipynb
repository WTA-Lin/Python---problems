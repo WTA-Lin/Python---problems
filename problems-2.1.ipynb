{
 "cells": [
  {
   "cell_type": "markdown",
   "metadata": {},
   "source": [
    "# Na hodinu"
   ]
  },
  {
   "cell_type": "markdown",
   "metadata": {},
   "source": [
    "## ⭐ **Úloha 01**\n",
    "Napíš funkciu `greet()`, ktorá berie meno ako argument a vypíše `\"Hello, [meno]!\"`. Otestuj ju so svojím vlastným menom."
   ]
  },
  {
   "cell_type": "code",
   "execution_count": 5,
   "metadata": {},
   "outputs": [
    {
     "name": "stdout",
     "output_type": "stream",
     "text": [
      "Hello, Linda!\n"
     ]
    }
   ],
   "source": [
    "def greet(name):\n",
    "    return f\"Hello, {name}!\"\n",
    "    \n",
    "print(greet(\"Linda\"))"
   ]
  },
  {
   "cell_type": "markdown",
   "metadata": {},
   "source": [
    "## ⭐ **Úloha 02**\n",
    "Napíš funkciu `reverse()`, ktorá berie string a vráti ten istý string ale naopak."
   ]
  },
  {
   "cell_type": "code",
   "execution_count": 21,
   "metadata": {},
   "outputs": [
    {
     "name": "stdout",
     "output_type": "stream",
     "text": [
      "joha\n",
      "olleh\n",
      "kinlutrv\n"
     ]
    }
   ],
   "source": [
    "def reverse_string(text):\n",
    "    return text[::-1]\n",
    "\n",
    "print(reverse_string(\"ahoj\"))\n",
    "print(reverse_string(\"hello\"))\n",
    "print(reverse_string(\"vrtulnik\"))"
   ]
  },
  {
   "cell_type": "markdown",
   "metadata": {},
   "source": [
    "## ⭐ **Úloha 03**\n",
    "Napíš funkciu `area()`, ktorá berie každú *unikátnu* dĺžku pravouhlého symetrického štvorca a vráti jeho plochu."
   ]
  },
  {
   "cell_type": "code",
   "execution_count": 13,
   "metadata": {},
   "outputs": [
    {
     "name": "stdout",
     "output_type": "stream",
     "text": [
      "36\n"
     ]
    }
   ],
   "source": [
    "def area_square(a):\n",
    "    return a * a\n",
    "\n",
    "print(area_square(6))"
   ]
  },
  {
   "cell_type": "markdown",
   "metadata": {},
   "source": [
    "## ⭐ **Úloha 04**\n",
    "Vytvor funkciu `leap_year_check()`, ktorá berie rok a vráti `True`, ak je rok prestupný."
   ]
  },
  {
   "cell_type": "code",
   "execution_count": 18,
   "metadata": {},
   "outputs": [
    {
     "name": "stdout",
     "output_type": "stream",
     "text": [
      "yes\n",
      "no\n"
     ]
    }
   ],
   "source": [
    "def leap_year_check(count_days):\n",
    "    if count_days == 366:\n",
    "        return \"yes\"\n",
    "    else:\n",
    "        return \"no\"\n",
    "\n",
    "print(leap_year_check(366))\n",
    "print(leap_year_check(365))"
   ]
  },
  {
   "cell_type": "markdown",
   "metadata": {},
   "source": [
    "## ⭐ **Úloha 05**\n",
    "Napíš funkciu `greet_everyone()`, ktorá berie list mien a vypíše `\"Hello, [meno]!\"` pre všetky mená v liste. Počet mien nie je vopred špecifikovaný."
   ]
  },
  {
   "cell_type": "code",
   "execution_count": 33,
   "metadata": {},
   "outputs": [
    {
     "name": "stdout",
     "output_type": "stream",
     "text": [
      "Hello, Jan!\n",
      "Hello, Eva!\n",
      "Hello, Adela!\n",
      "Hello, Roman!\n",
      "Hello, Ivan!\n",
      "Hello, Valeria!\n"
     ]
    }
   ],
   "source": [
    "def greet_everyone(name):\n",
    "    for name in names:\n",
    "        print(f\"Hello, {name}!\")\n",
    "        \n",
    "names = [\"Jan\", \"Eva\", \"Adela\", \"Roman\", \"Ivan\", \"Valeria\"]\n",
    "greet_everyone(names)"
   ]
  },
  {
   "cell_type": "markdown",
   "metadata": {},
   "source": [
    "## ⭐ **Úloha 06**\n",
    "Vytvor funkciu `names_alphabetical()`, ktorá berie meno osoby (dopredu sa nevie, koľko mien user poskytne) a vráti všetky časti ich mena v abecednom poradí."
   ]
  },
  {
   "cell_type": "code",
   "execution_count": 25,
   "metadata": {},
   "outputs": [
    {
     "name": "stdout",
     "output_type": "stream",
     "text": [
      "['Ada', 'Lovelace']\n",
      "['Curie', 'Maria', 'Salomea', 'Sklodowska']\n",
      "['Enrique', 'Iglesias', 'Miguel']\n"
     ]
    }
   ],
   "source": [
    "def names_alphabetical(full_name):\n",
    "    parts = full_name.split()\n",
    "    sorted_parts = sorted(parts, key=str.lower)\n",
    "    \n",
    "    return sorted_parts\n",
    "\n",
    "print(names_alphabetical(\"Ada Lovelace\"))\n",
    "print(names_alphabetical(\"Maria Salomea Sklodowska Curie\"))\n",
    "print(names_alphabetical(\"Enrique Miguel Iglesias\"))\n"
   ]
  },
  {
   "cell_type": "markdown",
   "metadata": {},
   "source": [
    "## ⭐ **Úloha 07**\n",
    "Napíš funkciu `prime_check()`, ktorá berie integer a vráti `True`, ak je číslo prvočíslo, inak `False`. (Tip: uisti sa, že ošetríš záporné čísla a iné edge cases.)"
   ]
  },
  {
   "cell_type": "code",
   "execution_count": 10,
   "metadata": {},
   "outputs": [
    {
     "name": "stdout",
     "output_type": "stream",
     "text": [
      "8 nie je prvocislo\n",
      "4 nie je prvocislo\n",
      "257 je prvocislo\n",
      "258 nie je prvocislo\n"
     ]
    }
   ],
   "source": [
    "def prime_check(cislo):\n",
    "    delitel = 2\n",
    "    \n",
    "    while delitel < cislo and cislo % delitel != 0:\n",
    "        delitel += 1 \n",
    "            \n",
    "    if delitel == cislo:\n",
    "        print(cislo, \"je prvocislo\")\n",
    "    else:\n",
    "        print(cislo, \"nie je prvocislo\")\n",
    "        \n",
    "prime_check(8)\n",
    "prime_check(4)\n",
    "prime_check(257)\n",
    "prime_check(258)\n",
    "    \n"
   ]
  },
  {
   "cell_type": "markdown",
   "metadata": {},
   "source": [
    "## ⭐ **Úloha 08**\n",
    "Vytvor funkciu `word_count()`, ktorá berie string s vetou a vráti dictionary s každým slovom ako key a jeho frekvenciou ako value."
   ]
  },
  {
   "cell_type": "code",
   "execution_count": 4,
   "metadata": {},
   "outputs": [
    {
     "name": "stdout",
     "output_type": "stream",
     "text": [
      "{'dnes': 2, 'nie': 1, 'je': 1, 'teplo,': 1, 'aj': 1, 'prsalo.': 1}\n"
     ]
    }
   ],
   "source": [
    "def word_count(sentence):\n",
    "    sentence = sentence.lower() \n",
    "    s = sentence.split()\n",
    "    word_frequency = {}\n",
    "    \n",
    "    for word in s:\n",
    "        if word:\n",
    "            word_frequency[word] = word_frequency.get(word , 0) + 1\n",
    "    \n",
    "    return word_frequency\n",
    "    \n",
    "sentence = \"dnes nie je teplo, dnes aj prsalo.\"\n",
    "        \n",
    "print(word_count(sentence))"
   ]
  },
  {
   "cell_type": "markdown",
   "metadata": {},
   "source": [
    "## ⭐ **Úloha 09**\n",
    "Vytvor funkciu `validate_email()`, ktorá vráti `True` len vtedy, keď input string obsahuje presne jeden `@`, aspoň jednu bodku za `@`, a žiadne medzery."
   ]
  },
  {
   "cell_type": "code",
   "execution_count": 27,
   "metadata": {},
   "outputs": [
    {
     "name": "stdout",
     "output_type": "stream",
     "text": [
      "True\n",
      "False\n",
      "False\n",
      "False\n"
     ]
    }
   ],
   "source": [
    "def validate_email(email):  \n",
    "    \n",
    "    if email.count(\"@\") != 1:\n",
    "        return False\n",
    "    if \" \" in email:\n",
    "        return False\n",
    "    at_index = email.index(\"@\")\n",
    "    if \".\" not in email[at_index:]:\n",
    "        return False\n",
    "    else:\n",
    "        return True\n",
    "\n",
    "print(validate_email(\"jan@gmail.com\"))\n",
    "print(validate_email(\"jan@@gmail.com\"))\n",
    "print(validate_email(\"jan@gmailcom\"))\n",
    "print(validate_email(\"jan.gmail.com\"))"
   ]
  },
  {
   "cell_type": "markdown",
   "metadata": {},
   "source": [
    "## ⭐ **Úloha 10**\n",
    "Vytvor funkciu `find_intersection()`, ktorá berie dva listy a vráti list elementov, ktoré sa vyskytujú v oboch listoch."
   ]
  },
  {
   "cell_type": "code",
   "execution_count": 19,
   "metadata": {},
   "outputs": [
    {
     "name": "stdout",
     "output_type": "stream",
     "text": [
      "['jablko', 'jogurt', 'mlieko']\n"
     ]
    }
   ],
   "source": [
    "def find_intersection(nakup_1, nakup_2):\n",
    "    my_set_nakup_1 = set(nakup_1)\n",
    "    my_set_nakup_2 = set(nakup_2)\n",
    "    \n",
    "    common = list(my_set_nakup_1.intersection(my_set_nakup_2))\n",
    "    return common\n",
    "\n",
    "nakup_1 =[\"jablko\", \"hruska\", \"maslo\", \"mlieko\", \"jogurt\", \"pecivo\"]\n",
    "nakup_2 = [\"mlieko\", \"salama\", \"jogurt\", \"hrozno\", \"syr\", \"ryba\", \"jablko\"]\n",
    "    \n",
    "print(find_intersection(nakup_1, nakup_2))\n"
   ]
  },
  {
   "cell_type": "markdown",
   "metadata": {},
   "source": [
    "## ⭐ **Úloha 11**\n",
    "Vytvor funkciu `count_words_by_length()`, ktorá berie vetu a vráti dictionary, kde keys sú dĺžky slov a values sú počty slov s danou dĺžkou."
   ]
  },
  {
   "cell_type": "code",
   "execution_count": 48,
   "metadata": {},
   "outputs": [
    {
     "name": "stdout",
     "output_type": "stream",
     "text": [
      "{5: 2, 3: 2, 2: 1, 6: 1, 9: 1}\n"
     ]
    }
   ],
   "source": [
    "def count_words_by_length(sentence):\n",
    "    words = sentence.split() \n",
    "    lenght_word_frequency = {}\n",
    "\n",
    "    for word in words: \n",
    "        lenght = len(word)\n",
    "        if lenght in lenght_word_frequency:\n",
    "            lenght_word_frequency[lenght] += 1\n",
    "        else:\n",
    "            lenght_word_frequency[lenght] = 1\n",
    "   \n",
    "    return lenght_word_frequency\n",
    "\n",
    "sentence = \"Vcera som si kupila dve zaujimave knihy\"\n",
    "    \n",
    "print(count_words_by_length(sentence))"
   ]
  },
  {
   "cell_type": "markdown",
   "metadata": {},
   "source": [
    "## ⭐ **Úloha 12**\n",
    "Vytvor funkciu `hours_to_hms()`, ktorá berie počet hodín ako desatiné číslo a vráti ho vo formáte hodiny:minúty:sekundy."
   ]
  },
  {
   "cell_type": "code",
   "execution_count": 14,
   "metadata": {},
   "outputs": [
    {
     "name": "stdout",
     "output_type": "stream",
     "text": [
      " 02:30:00\n",
      " 17:51:00\n",
      " 00:45:14\n"
     ]
    }
   ],
   "source": [
    "def hours_to_hms(hours):\n",
    "    h = int(hours)\n",
    "    minutes_full = (hours - h) * 60\n",
    "    m = int(minutes_full)\n",
    "    seconds = (minutes_full - m) * 60\n",
    "    s = int(round(seconds))\n",
    "    \n",
    "    if s == 60:\n",
    "        s = 0\n",
    "        m += 1\n",
    "    if m == 60:\n",
    "        m = 0\n",
    "        h += 1\n",
    "        \n",
    "    return f\" {h:02d}:{m:02d}:{s:02d}\"\n",
    "      \n",
    "print(hours_to_hms(2.5))\n",
    "print(hours_to_hms(17.85))\n",
    "print(hours_to_hms(0.754))\n",
    "\n",
    "\n",
    "    \n",
    "    "
   ]
  },
  {
   "cell_type": "markdown",
   "metadata": {},
   "source": [
    "## ⭐ **Úloha 13**\n",
    "Napíš funkciu `fibonacci()`, ktorá berie integer `n` a vráti n-té Fibonacci číslo."
   ]
  },
  {
   "cell_type": "code",
   "execution_count": 1,
   "metadata": {},
   "outputs": [
    {
     "name": "stdout",
     "output_type": "stream",
     "text": [
      "55\n"
     ]
    }
   ],
   "source": [
    "def fibonacci(n):\n",
    "    if n < 0:\n",
    "        return \"Chyba: n musi byt nezaporne cislo\"\n",
    "    elif n in (0, 1):\n",
    "        return n\n",
    "    else:\n",
    "        return fibonacci(n-1) + fibonacci(n-2)\n",
    "\n",
    "print(fibonacci(10))"
   ]
  },
  {
   "cell_type": "markdown",
   "metadata": {},
   "source": [
    "## ⭐ **Úloha 14**\n",
    "Vytvor rekurzívnu funkciu `gcd()`, ktorá nájde a vráti najväčší spoločný deliteľ dvoch input integerov. (Tip: zvaž použitie Euklidovho algoritmu.)"
   ]
  },
  {
   "cell_type": "code",
   "execution_count": null,
   "metadata": {},
   "outputs": [],
   "source": []
  },
  {
   "cell_type": "markdown",
   "metadata": {},
   "source": [
    "## ⭐ **Úloha 15**\n",
    "Vytvor funkciu `merge_lists()`, ktorá berie presne dva zoradené listy integerov a vráti jeden zoradený list obsahujúci všetky elementy z oboch listov."
   ]
  },
  {
   "cell_type": "code",
   "execution_count": null,
   "metadata": {},
   "outputs": [],
   "source": []
  },
  {
   "cell_type": "markdown",
   "metadata": {},
   "source": [
    "## ⭐ **Úloha 16**\n",
    "Napíš funkciu `find_second_largest()`, ktorá berie list čísel a vráti druhé najväčšie číslo. (Tip: ošetri prípad, keď sú všetky hodnoty rovnaké.)"
   ]
  },
  {
   "cell_type": "code",
   "execution_count": null,
   "metadata": {},
   "outputs": [],
   "source": []
  },
  {
   "cell_type": "markdown",
   "metadata": {},
   "source": [
    "## ⭐ **Úloha 17**\n",
    "Vytvor funkciu `ceasar_cipher()`, ktorá berie string a integer `n`, a vráti string posunutý o `n` pozícií doľava. (Tip: ošetri prípady, keď `n` je väčšie ako dĺžka stringu.)"
   ]
  },
  {
   "cell_type": "code",
   "execution_count": null,
   "metadata": {},
   "outputs": [],
   "source": []
  },
  {
   "cell_type": "markdown",
   "metadata": {},
   "source": [
    "## ⭐ **Úloha 18**\n",
    "Napíš funkciu `remove_nth_character()`, ktorá berie string a integer `n`, a vráti string s každým n-tým charakterom odstráneným. Ošetri prípady, keď `n` je väčšie ako dĺžka stringu."
   ]
  },
  {
   "cell_type": "code",
   "execution_count": 13,
   "metadata": {},
   "outputs": [
    {
     "name": "stdout",
     "output_type": "stream",
     "text": [
      "hlcpe\n",
      "rumlciperamp\n"
     ]
    }
   ],
   "source": [
    "def remove_nth_character (word, n):\n",
    "    if n <= 0:\n",
    "        return \"Chyba: n musi byt kladne cele cislo\"\n",
    "    if n > len(word):\n",
    "        return \"N je vacsie ako dlzka slova\"\n",
    "   \n",
    "    removed_ch = \"\"\n",
    "    for ch in range(len(word)): \n",
    "        if (ch + 1) % n != 0:\n",
    "            removed_ch += word[ch]   \n",
    "    return removed_ch\n",
    "         \n",
    "print(remove_nth_character(\"helicopter\", 2))\n",
    "print(remove_nth_character(\"rumplcimpercampr\", 4))\n",
    "    "
   ]
  },
  {
   "cell_type": "markdown",
   "metadata": {},
   "source": [
    "## ⭐ **Úloha 19**\n",
    "Napíš funkciu `find_missing_number()`, ktorá berie list integerov od 1 do n s jedným chýbajúcim číslom, a vráti chýbajúce číslo. (List nemusí byť zoradený.)"
   ]
  },
  {
   "cell_type": "code",
   "execution_count": null,
   "metadata": {},
   "outputs": [],
   "source": []
  },
  {
   "cell_type": "markdown",
   "metadata": {},
   "source": [
    "## ⭐ **Úloha 20**\n",
    "Napíš funkciu `anagram_groups()`, ktorá berie list slov a vráti dictionary anagramov, kde key je abecedne zoradený reprezentant (napr. `{\"aet\": [\"eat\", \"tea\", \"ate\"], \"ab\": [\"ab\", \"ba\"]}`)."
   ]
  },
  {
   "cell_type": "code",
   "execution_count": null,
   "metadata": {},
   "outputs": [],
   "source": []
  },
  {
   "cell_type": "markdown",
   "metadata": {},
   "source": [
    "## ⭐ **Úloha 21**\n",
    "Vytvor funkciu `sort_by_frequency()`, ktorá berie list elementov a vráti list zoradený podľa frekvencie výskytu (najčastejšie prvé). (Tip: premysli si, ako chceš riešiť prípady, keď sa slová vyskytujú toľko isto krát.)"
   ]
  },
  {
   "cell_type": "code",
   "execution_count": null,
   "metadata": {},
   "outputs": [],
   "source": []
  }
 ],
 "metadata": {
  "kernelspec": {
   "display_name": "Python 3",
   "language": "python",
   "name": "python3"
  },
  "language_info": {
   "codemirror_mode": {
    "name": "ipython",
    "version": 3
   },
   "file_extension": ".py",
   "mimetype": "text/x-python",
   "name": "python",
   "nbconvert_exporter": "python",
   "pygments_lexer": "ipython3",
   "version": "3.14.0"
  }
 },
 "nbformat": 4,
 "nbformat_minor": 5
}
