{
 "cells": [
  {
   "cell_type": "markdown",
   "id": "0c3f8933",
   "metadata": {},
   "source": [
    "# Uloha c. 1\n",
    "Vytvor class Ball s funkciou hop_height, ktorá prijíma argument h pre výšku, z ktorej je lopta pustená, a vráti výšku k-tého skoku, ktorá sa znižuje exponenciálne.\n"
   ]
  },
  {
   "cell_type": "code",
   "execution_count": null,
   "id": "3de646f3",
   "metadata": {},
   "outputs": [
    {
     "name": "stdout",
     "output_type": "stream",
     "text": [
      "10.0\n",
      "7.0\n",
      "4.8999999999999995\n",
      "3.4299999999999993\n"
     ]
    }
   ],
   "source": [
    "class Ball:\n",
    "    def ____init(self, size):\n",
    "        self.size = size\n",
    "                \n",
    "    def hop_height(self, h, k):  \n",
    "        rate_decrease =   0.3    \n",
    "        return h * (1 - rate_decrease) ** k\n",
    "    \n",
    "ball = Ball(0.7)\n",
    "print(ball.hop_height(10, 0))\n",
    "print(ball.hop_height(10, 1))\n",
    "print(ball.hop_height(10, 2))\n",
    "print(ball.hop_height(10, 3))"
   ]
  },
  {
   "cell_type": "code",
   "execution_count": null,
   "id": "caae9dc1",
   "metadata": {},
   "outputs": [],
   "source": [
    "## uloha c. 2\n",
    "import random\n",
    "\n",
    "class Dice:\n",
    "    def __init__(self, sides=6):\n",
    "        self.sides = sides\n",
    "        \n",
    "    def roll(self, number):\n",
    "        return random.randint(1, self.sides)"
   ]
  },
  {
   "cell_type": "code",
   "execution_count": 20,
   "id": "7a30fc4b",
   "metadata": {},
   "outputs": [
    {
     "ename": "AttributeError",
     "evalue": "'Dice' object has no attribute 'sides'",
     "output_type": "error",
     "traceback": [
      "\u001b[31m---------------------------------------------------------------------------\u001b[39m",
      "\u001b[31mAttributeError\u001b[39m                            Traceback (most recent call last)",
      "\u001b[36mCell\u001b[39m\u001b[36m \u001b[39m\u001b[32mIn[20]\u001b[39m\u001b[32m, line 2\u001b[39m\n\u001b[32m      1\u001b[39m dice1 = Dice()\n\u001b[32m----> \u001b[39m\u001b[32m2\u001b[39m \u001b[38;5;28mprint\u001b[39m(\u001b[43mdice1\u001b[49m\u001b[43m.\u001b[49m\u001b[43msides\u001b[49m)\n",
      "\u001b[31mAttributeError\u001b[39m: 'Dice' object has no attribute 'sides'"
     ]
    }
   ],
   "source": [
    "dice1 = Dice()\n",
    "print(dice1.sides)"
   ]
  },
  {
   "cell_type": "code",
   "execution_count": null,
   "id": "a8f292e6",
   "metadata": {},
   "outputs": [],
   "source": []
  }
 ],
 "metadata": {
  "kernelspec": {
   "display_name": "Python 3",
   "language": "python",
   "name": "python3"
  },
  "language_info": {
   "codemirror_mode": {
    "name": "ipython",
    "version": 3
   },
   "file_extension": ".py",
   "mimetype": "text/x-python",
   "name": "python",
   "nbconvert_exporter": "python",
   "pygments_lexer": "ipython3",
   "version": "3.14.0"
  }
 },
 "nbformat": 4,
 "nbformat_minor": 5
}
