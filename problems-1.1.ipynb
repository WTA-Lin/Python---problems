{
 "cells": [
  {
   "cell_type": "code",
   "execution_count": null,
   "id": "b067fafa",
   "metadata": {},
   "outputs": [
    {
     "name": "stdout",
     "output_type": "stream",
     "text": [
      "9\n",
      "<class 'int'>\n"
     ]
    }
   ],
   "source": [
    "## uloha c. 3\n",
    "\n",
    "myInt = 9\n",
    "print(myInt)\n",
    "print(type(myInt))"
   ]
  },
  {
   "cell_type": "code",
   "execution_count": 3,
   "id": "1b976a07",
   "metadata": {},
   "outputs": [
    {
     "name": "stdout",
     "output_type": "stream",
     "text": [
      "1.25\n",
      "<class 'float'>\n"
     ]
    }
   ],
   "source": [
    "myFloat = 1.25\n",
    "print(myFloat)\n",
    "print(type(myFloat))"
   ]
  },
  {
   "cell_type": "code",
   "execution_count": 4,
   "id": "c5c49944",
   "metadata": {},
   "outputs": [
    {
     "name": "stdout",
     "output_type": "stream",
     "text": [
      "ahojte\n",
      "<class 'str'>\n"
     ]
    }
   ],
   "source": [
    "myStr = \"ahojte\"\n",
    "print(myStr)\n",
    "print(type(myStr))"
   ]
  },
  {
   "cell_type": "code",
   "execution_count": 5,
   "id": "516014b5",
   "metadata": {},
   "outputs": [
    {
     "name": "stdout",
     "output_type": "stream",
     "text": [
      "True\n",
      "<class 'bool'>\n"
     ]
    }
   ],
   "source": [
    "myBool = 5 > 3\n",
    "print(myBool)\n",
    "print(type(myBool))"
   ]
  },
  {
   "cell_type": "code",
   "execution_count": null,
   "id": "88d616e6",
   "metadata": {},
   "outputs": [
    {
     "name": "stdout",
     "output_type": "stream",
     "text": [
      "21\n"
     ]
    }
   ],
   "source": [
    "## uloha c. 4\n",
    "\n",
    "x = 5\n",
    "x += 2\n",
    "y = 2\n",
    "y += 1\n",
    "print(x * y)"
   ]
  },
  {
   "cell_type": "code",
   "execution_count": 22,
   "id": "f9cf3f9c",
   "metadata": {},
   "outputs": [
    {
     "name": "stdout",
     "output_type": "stream",
     "text": [
      "28\n",
      "1\n",
      "3\n"
     ]
    }
   ],
   "source": [
    "## uloha c. 5\n",
    "\n",
    "x = 3\n",
    "y = 10\n",
    "print(x * y - y % x - y % x)\n",
    "print(y % x)\n",
    "print(x % y)"
   ]
  },
  {
   "cell_type": "code",
   "execution_count": null,
   "id": "8f276fce",
   "metadata": {},
   "outputs": [
    {
     "name": "stdout",
     "output_type": "stream",
     "text": [
      "meno: John email: john@gmail.com datum narodenia: 16.10.1995 vek 30\n"
     ]
    }
   ],
   "source": [
    "## uloha c. 6 \n",
    "\n",
    "menoStr = \"meno: John\"\n",
    "emailStr = \"email: john@gmail.com\"\n",
    "datumNarodeniaStr = \"datum narodenia: 16.10.1995\"\n",
    "vek = \"vek 30\"\n",
    "\n",
    "print(menoStr, emailStr, datumNarodeniaStr, vek)\n"
   ]
  },
  {
   "cell_type": "code",
   "execution_count": null,
   "id": "72e54bd8",
   "metadata": {},
   "outputs": [
    {
     "name": "stdout",
     "output_type": "stream",
     "text": [
      "600\n",
      "462.0\n",
      "462.0\n"
     ]
    }
   ],
   "source": [
    "## uloha c. 7\n",
    "\n",
    "x = 15\n",
    "y = 40\n",
    "## hruba mzda\n",
    "result = (x * y)\n",
    "print(result)\n",
    "## mzda po 23 % dani\n",
    "danFloat = 0.77\n",
    "result = (600 * danFloat)\n",
    "print(result)\n",
    "\n",
    "result = (x * y * danFloat)\n",
    "print(result)"
   ]
  },
  {
   "cell_type": "code",
   "execution_count": 12,
   "id": "792aa4d4",
   "metadata": {},
   "outputs": [
    {
     "name": "stdout",
     "output_type": "stream",
     "text": [
      "1123.1\n"
     ]
    }
   ],
   "source": [
    "## uloha c. 8\n",
    "\n",
    "x = 1000\n",
    "y = 100\n",
    "urokFloat = 0.021 + 1\n",
    "\n",
    "mesacne = (x + y) * urokFloat\n",
    "print(mesacne)"
   ]
  },
  {
   "cell_type": "code",
   "execution_count": null,
   "id": "9162af26",
   "metadata": {},
   "outputs": [
    {
     "ename": "SyntaxError",
     "evalue": "invalid syntax (2522213406.py, line 10)",
     "output_type": "error",
     "traceback": [
      "  \u001b[36mCell\u001b[39m\u001b[36m \u001b[39m\u001b[32mIn[27]\u001b[39m\u001b[32m, line 10\u001b[39m\n\u001b[31m    \u001b[39m\u001b[31mprint(seconds %, x **= 2)\u001b[39m\n                   ^\n\u001b[31mSyntaxError\u001b[39m\u001b[31m:\u001b[39m invalid syntax\n"
     ]
    }
   ],
   "source": [
    "## uloha c. 9\n",
    "seconds = 3749\n",
    "x = 60\n",
    "sekundy = 60\n",
    "## pocet minut a pocet hodin\n",
    "sekundy = x**2\n",
    "print(sekundy)\n",
    "\n",
    "print(seconds % sekundy)\n"
   ]
  },
  {
   "cell_type": "code",
   "execution_count": null,
   "id": "b9373e0b",
   "metadata": {},
   "outputs": [
    {
     "name": "stdout",
     "output_type": "stream",
     "text": [
      "24\n"
     ]
    }
   ],
   "source": [
    "## uloha c. 10\n",
    "## 1.1. (streda), 175. den (???)\n",
    "x = 175\n",
    "print(x - 31 - 28 - 31 - 30 - 31)"
   ]
  },
  {
   "cell_type": "code",
   "execution_count": null,
   "id": "7b091430",
   "metadata": {},
   "outputs": [
    {
     "name": "stdout",
     "output_type": "stream",
     "text": [
      "True\n"
     ]
    }
   ],
   "source": [
    "## uloha c. 11\n",
    "x = 4792\n",
    "quarteredBool = x % 4 == 0\n",
    "print(quarteredBool)"
   ]
  },
  {
   "cell_type": "code",
   "execution_count": 7,
   "id": "8b2c501b",
   "metadata": {},
   "outputs": [
    {
     "name": "stdout",
     "output_type": "stream",
     "text": [
      "5\n",
      "5.6000000000000005\n"
     ]
    }
   ],
   "source": [
    "## uloha c. 12\n",
    "x = 4\n",
    "y = 5\n",
    "\n",
    "sedemLudi = ( x / y * 7)\n",
    "\n",
    "convert_to_int = int(sedemLudi)\n",
    "print(convert_to_int) \n",
    "convert_to_float = float(sedemLudi)\n",
    "print(convert_to_float)"
   ]
  },
  {
   "cell_type": "code",
   "execution_count": 8,
   "id": "f79e460e",
   "metadata": {},
   "outputs": [
    {
     "name": "stdout",
     "output_type": "stream",
     "text": [
      "True\n"
     ]
    }
   ],
   "source": [
    "## uloha c. 13\n",
    "age = 65\n",
    "result = age > 18\n",
    "\n",
    "print(result)\n"
   ]
  },
  {
   "cell_type": "code",
   "execution_count": 15,
   "id": "51ddf892",
   "metadata": {},
   "outputs": [
    {
     "name": "stdout",
     "output_type": "stream",
     "text": [
      "True\n"
     ]
    }
   ],
   "source": [
    "## uloha c. 14\n",
    "cookies = 30\n",
    "pocetLudi = 15\n",
    "\n",
    "result = cookies == pocetLudi or cookies > pocetLudi\n",
    "print(result)"
   ]
  },
  {
   "cell_type": "code",
   "execution_count": null,
   "id": "6a0d61fd",
   "metadata": {},
   "outputs": [
    {
     "name": "stdout",
     "output_type": "stream",
     "text": [
      "False\n"
     ]
    }
   ],
   "source": [
    "## uloha c. 15\n",
    "\n",
    "x = 25\n",
    "\n",
    "unpleasant = x < 17 or x > 27 \n",
    "print(unpleasant)"
   ]
  },
  {
   "cell_type": "code",
   "execution_count": null,
   "id": "f8814d86",
   "metadata": {},
   "outputs": [],
   "source": []
  }
 ],
 "metadata": {
  "kernelspec": {
   "display_name": "Python 3",
   "language": "python",
   "name": "python3"
  },
  "language_info": {
   "codemirror_mode": {
    "name": "ipython",
    "version": 3
   },
   "file_extension": ".py",
   "mimetype": "text/x-python",
   "name": "python",
   "nbconvert_exporter": "python",
   "pygments_lexer": "ipython3",
   "version": "3.14.0"
  }
 },
 "nbformat": 4,
 "nbformat_minor": 5
}
