{
 "cells": [
  {
   "cell_type": "code",
   "execution_count": 3,
   "id": "cb96e375",
   "metadata": {},
   "outputs": [
    {
     "name": "stdout",
     "output_type": "stream",
     "text": [
      "Linda\n",
      "Linda\n",
      "Linda\n",
      "Linda\n",
      "Linda\n",
      "Linda\n",
      "Linda\n",
      "Linda\n",
      "Linda\n",
      "Linda\n",
      "Linda\n",
      "LindaLindaLindaLindaLindaLindaLindaLindaLindaLindaLinda\n"
     ]
    }
   ],
   "source": [
    "## uloha c. 1\n",
    "\n",
    "name = \"Linda\"\n",
    "for x in range(11):\n",
    "   print(name)\n",
    "    \n",
    "print(name * 11)"
   ]
  },
  {
   "cell_type": "code",
   "execution_count": null,
   "id": "9f752e77",
   "metadata": {},
   "outputs": [
    {
     "name": "stdout",
     "output_type": "stream",
     "text": [
      "3\n",
      "6\n",
      "9\n",
      "12\n",
      "15\n",
      "18\n",
      "21\n"
     ]
    }
   ],
   "source": [
    "## uloha c. 2\n",
    "\n",
    "my_range = range(2, 22)\n",
    "for x in my_range: \n",
    "    if x % 3 == 0:\n",
    "        print(x)"
   ]
  },
  {
   "cell_type": "code",
   "execution_count": 7,
   "id": "60679f61",
   "metadata": {},
   "outputs": [
    {
     "name": "stdout",
     "output_type": "stream",
     "text": [
      "F\n",
      "55\n",
      "C\n"
     ]
    }
   ],
   "source": [
    "## uloha c. 3\n",
    "\n",
    "score = 55\n",
    "if score >= 90:\n",
    "    print(\"A\")\n",
    "elif score >= 80:\n",
    "    print(\"B\")\n",
    "elif score >= 70:\n",
    "    print(\"C\")\n",
    "elif score >= 60:\n",
    "    print(\"D\")\n",
    "elif score < 60:\n",
    "    print(\"F\")\n",
    "print(score)\n",
    "\n",
    "notes_score = range(0, 100)\n",
    "score = 78\n",
    "match score:\n",
    "    case score if 100 >= score >= 90:\n",
    "        grade = \"A\"\n",
    "    case score if 90 >= score >= 80:\n",
    "        grade = \"B\"\n",
    "    case score if 80 >= score >= 70:\n",
    "        grade = \"C\"\n",
    "    case score if 70 >= score >= 60:\n",
    "        grade = \"D\"\n",
    "    case score if 60 >= score >= 0:\n",
    "        grade = \"F\"\n",
    "    case _:\n",
    "        grade = \"invalid score\"\n",
    "\n",
    "print(grade)"
   ]
  },
  {
   "cell_type": "code",
   "execution_count": 22,
   "id": "5ba7712c",
   "metadata": {},
   "outputs": [
    {
     "name": "stdout",
     "output_type": "stream",
     "text": [
      "True\n",
      "True\n"
     ]
    }
   ],
   "source": [
    "## uloha c. 4\n",
    " \n",
    "my_list_colors = [\"blue\", \"green\", \"black\", \"white\", \"red\"]\n",
    "has_red = \"red\" in my_list_colors\n",
    "print(has_red)\n",
    "\n",
    "\n",
    "my_list_colors = [\"blue\", \"green\", \"black\", \"white\"], \"red\"\n",
    "has_red = x == \"red\" in my_list_colors\n",
    "if x == \"red\":\n",
    "    print(has_red)\n",
    "\n"
   ]
  },
  {
   "cell_type": "code",
   "execution_count": null,
   "id": "533ac90a",
   "metadata": {},
   "outputs": [
    {
     "name": "stdout",
     "output_type": "stream",
     "text": [
      "60.0\n"
     ]
    }
   ],
   "source": [
    "## uloha c. 5\n",
    "\n",
    "my_list_bool = [True, False, False, True, True, True, False, True, False, True]\n",
    "\n",
    "total_answer = len(my_list_bool)\n",
    "true_count = sum(my_list_bool)\n",
    "\n",
    "percentage_true = (true_count/total_answer) * 100\n",
    "print(percentage_true) "
   ]
  },
  {
   "cell_type": "code",
   "execution_count": 11,
   "id": "00369495",
   "metadata": {},
   "outputs": [
    {
     "name": "stdout",
     "output_type": "stream",
     "text": [
      "60.0\n"
     ]
    }
   ],
   "source": [
    "my_list_bool = [True, False, False, True, True, True, False, True, False, True]\n",
    "total_answer = len(my_list_bool)\n",
    "\n",
    "true_count = 0\n",
    "\n",
    "for item in my_list_bool:\n",
    "    if item == True:\n",
    "        true_count += item\n",
    "\n",
    "percentage_true = (true_count / total_answer) * 100\n",
    "print(percentage_true)\n",
    "\n"
   ]
  },
  {
   "cell_type": "code",
   "execution_count": 13,
   "id": "d7860dc1",
   "metadata": {},
   "outputs": [
    {
     "name": "stdout",
     "output_type": "stream",
     "text": [
      "[1.24, 3.57, 2.59, 6.99]\n",
      "[1.23, 3.56, 2.58, 6.98]\n"
     ]
    }
   ],
   "source": [
    "## uloha c. 6\n",
    "\n",
    "my_list_float = [1.2356, 3.5698, 2.589, 6.9874]\n",
    "\n",
    "rounded_list = [round(x, 2) \n",
    "for x in my_list_float]\n",
    "print(rounded_list)\n",
    "\n",
    "rounded_list = [int(number * 100) / 100 for number in my_list_float] \n",
    "print(rounded_list)\n"
   ]
  },
  {
   "cell_type": "code",
   "execution_count": 16,
   "id": "06f7b7c9",
   "metadata": {},
   "outputs": [
    {
     "name": "stdout",
     "output_type": "stream",
     "text": [
      "[1.23, 3.56, 2.58, 6.98]\n"
     ]
    }
   ],
   "source": [
    "my_list_float = [1.2356, 3.5698, 2.589, 6.9874]\n",
    "rounded_list = []\n",
    "\n",
    "for number in my_list_float:\n",
    "    rounded_number = int(number * 100) / 100\n",
    "    rounded_list.append(rounded_number)\n",
    "\n",
    "print(rounded_list)"
   ]
  },
  {
   "cell_type": "code",
   "execution_count": 17,
   "id": "6fbedbdd",
   "metadata": {},
   "outputs": [
    {
     "name": "stdout",
     "output_type": "stream",
     "text": [
      "{1, 2, 3, 5, 6, 7, 9, 10, 11, 13, 14, 15, 17, 18, 19}\n"
     ]
    }
   ],
   "source": [
    "## uloha c. 7\n",
    "\n",
    "vsetky_cisla = {1, 2, 3, 4, 5, 6, 7, 8, 9, 10, 11, 12, 13, 14, 15, 16, 17, 18, 19, 20}\n",
    "\n",
    "number_set = set(range(1, 21))\n",
    "to_remove = set()\n",
    "\n",
    "for number in number_set:\n",
    "    if number % 4 == 0:\n",
    "        to_remove.add(number)\n",
    "    \n",
    "remaining_set = number_set - to_remove\n",
    "print(remaining_set)\n",
    "                "
   ]
  },
  {
   "cell_type": "code",
   "execution_count": 40,
   "id": "dd58f734",
   "metadata": {},
   "outputs": [
    {
     "name": "stdout",
     "output_type": "stream",
     "text": [
      "{1, 2, 3, 5, 6, 7, 9, 10, 11, 13, 14, 15, 17, 18, 19}\n"
     ]
    }
   ],
   "source": [
    "all_numbers = {1, 2, 3, 4, 5, 6, 7, 8, 9, 10, 11, 12, 13, 14, 15, 16, 17, 18, 19, 20}\n",
    "to_remove = set()\n",
    "\n",
    "for number in all_numbers:\n",
    "    if number % 4 == 0:\n",
    "        to_remove.add(number)\n",
    "\n",
    "remaining_set = all_numbers - to_remove\n",
    "\n",
    "print(remaining_set)"
   ]
  },
  {
   "cell_type": "code",
   "execution_count": null,
   "id": "2a864a4d",
   "metadata": {},
   "outputs": [
    {
     "name": "stdout",
     "output_type": "stream",
     "text": [
      "{0, 3, 4, 5, 7, 8, 9}\n"
     ]
    }
   ],
   "source": [
    "## uloha c. 8\n",
    "\n",
    "set_a = {0, 1, 2, 3, 4, 5, 6}\n",
    "set_b = {7, 9, 6, 8, 2 , 2, 1}\n",
    "\n",
    "set_c = a.symmetric_difference(b)\n",
    "print(c)"
   ]
  },
  {
   "cell_type": "code",
   "execution_count": null,
   "id": "24e9299a",
   "metadata": {},
   "outputs": [],
   "source": [
    "## uloha c. 9\n",
    "\n",
    "day_idx = 256\n",
    "weekdays = 7\n",
    "days_in_year = range (1, 365)\n",
    "\n"
   ]
  },
  {
   "cell_type": "code",
   "execution_count": 56,
   "id": "9e58d7aa",
   "metadata": {},
   "outputs": [
    {
     "name": "stdout",
     "output_type": "stream",
     "text": [
      "['manual.docx', 'pokyny.pdf', 'mapa.jpg']\n",
      "['zoznam.txt', 'prezencna_listina.txt']\n"
     ]
    }
   ],
   "source": [
    "## uloha c. 10\n",
    "\n",
    "file_names = [\"pokyny.pdf\", \"zoznam.txt\", \"mapa.jpg\", \"prezencna_listina.txt\", \"manual.docx\"]\n",
    "file_txt = []\n",
    "\n",
    "ending_txt = \".txt\"\n",
    "\n",
    "for file in file_names:\n",
    "    if ending_txt in file:\n",
    "        file_txt.append(file)\n",
    "        \n",
    "remaining_file = list(set(file_names) - set(file_txt))\n",
    "print(remaining_file)\n",
    "print(file_txt)\n"
   ]
  },
  {
   "cell_type": "code",
   "execution_count": 38,
   "id": "308ae49c",
   "metadata": {},
   "outputs": [
    {
     "name": "stdout",
     "output_type": "stream",
     "text": [
      "8\n"
     ]
    }
   ],
   "source": [
    "## uloha c. 11\n",
    "\n",
    "random_numbers = [2, 6 , 5 , 9, 7, 7, 4, 4, 1, 8]\n",
    "\n",
    "set_random_numbers = set(random_numbers)\n",
    "sorted_number = sorted(set_random_numbers)\n",
    "\n",
    "second_largest_number = sorted_number[-2]\n",
    "\n",
    "print(second_largest_number)    "
   ]
  },
  {
   "cell_type": "code",
   "execution_count": 47,
   "id": "2ed44037",
   "metadata": {},
   "outputs": [
    {
     "name": "stdout",
     "output_type": "stream",
     "text": [
      "25.4\n"
     ]
    }
   ],
   "source": [
    "## uloha c. 12\n",
    "\n",
    "people = [\n",
    "    {\"name\": \"Jana\", \"age\": 20}, \n",
    "    {\"name\": \"Julia\", \"age\": 26},\n",
    "    {\"name\": \"Jozef\", \"age\": 30},\n",
    "    {\"name\": \"Emil\", \"age\": 28}, \n",
    "    {\"name\": \"Lenka\", \"age\": 23}\n",
    "]\n",
    "\n",
    "people_count = len(people)\n",
    "total_age = 0\n",
    "\n",
    "for person in people:\n",
    "    age_person = int(person[\"age\"])\n",
    "    total_age += age_person\n",
    "     \n",
    "average_age = total_age / people_count\n",
    "print(average_age)"
   ]
  },
  {
   "cell_type": "code",
   "execution_count": 55,
   "id": "0bceaa4e",
   "metadata": {},
   "outputs": [
    {
     "name": "stdout",
     "output_type": "stream",
     "text": [
      "[['Alica', 'Anna', 'Elena'], ['Eva', 'Ivan', 'Izabela'], ['Jakub', 'Jan', 'Livia'], ['Milan', 'Peter', 'Zuzana']]\n"
     ]
    }
   ],
   "source": [
    "## uloha c. 13\n",
    "\n",
    "my_list_names = [\"Jan\", \"Milan\", \"Anna\", \"Eva\", \"Zuzana\", \"Peter\", \"Ivan\", \"Jakub\", \"Elena\", \"Alica\", \"Livia\", \"Izabela\"]\n",
    "sorted_list_name = my_list_names.sort()\n",
    "\n",
    "list_three_names = [my_list_names[i:i+3] \n",
    "for i in range(0, len(my_list_names), 3)]\n",
    "\n",
    "print(list_three_names)"
   ]
  },
  {
   "cell_type": "code",
   "execution_count": null,
   "id": "0c75c4f1",
   "metadata": {},
   "outputs": [],
   "source": []
  }
 ],
 "metadata": {
  "kernelspec": {
   "display_name": "Python 3",
   "language": "python",
   "name": "python3"
  },
  "language_info": {
   "codemirror_mode": {
    "name": "ipython",
    "version": 3
   },
   "file_extension": ".py",
   "mimetype": "text/x-python",
   "name": "python",
   "nbconvert_exporter": "python",
   "pygments_lexer": "ipython3",
   "version": "3.14.0"
  }
 },
 "nbformat": 4,
 "nbformat_minor": 5
}
